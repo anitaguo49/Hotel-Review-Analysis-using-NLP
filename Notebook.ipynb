{
 "cells": [
  {
   "cell_type": "code",
   "execution_count": 1,
   "metadata": {},
   "outputs": [],
   "source": [
    "import numpy as np\n",
    "import pandas as pd\n",
    "import re\n",
    "\n",
    "from sklearn.cluster import KMeans\n",
    "from sklearn.metrics import silhouette_score"
   ]
  },
  {
   "cell_type": "code",
   "execution_count": 7,
   "metadata": {},
   "outputs": [],
   "source": [
    "df = pd.read_csv('Hotel_Reviews.csv')"
   ]
  },
  {
   "cell_type": "code",
   "execution_count": 8,
   "metadata": {},
   "outputs": [
    {
     "data": {
      "text/html": [
       "<div>\n",
       "<style scoped>\n",
       "    .dataframe tbody tr th:only-of-type {\n",
       "        vertical-align: middle;\n",
       "    }\n",
       "\n",
       "    .dataframe tbody tr th {\n",
       "        vertical-align: top;\n",
       "    }\n",
       "\n",
       "    .dataframe thead th {\n",
       "        text-align: right;\n",
       "    }\n",
       "</style>\n",
       "<table border=\"1\" class=\"dataframe\">\n",
       "  <thead>\n",
       "    <tr style=\"text-align: right;\">\n",
       "      <th></th>\n",
       "      <th>Hotel_Address</th>\n",
       "      <th>Additional_Number_of_Scoring</th>\n",
       "      <th>Review_Date</th>\n",
       "      <th>Average_Score</th>\n",
       "      <th>Hotel_Name</th>\n",
       "      <th>Reviewer_Nationality</th>\n",
       "      <th>Negative_Review</th>\n",
       "      <th>Review_Total_Negative_Word_Counts</th>\n",
       "      <th>Total_Number_of_Reviews</th>\n",
       "      <th>Positive_Review</th>\n",
       "      <th>Review_Total_Positive_Word_Counts</th>\n",
       "      <th>Total_Number_of_Reviews_Reviewer_Has_Given</th>\n",
       "      <th>Reviewer_Score</th>\n",
       "      <th>Tags</th>\n",
       "      <th>days_since_review</th>\n",
       "      <th>lat</th>\n",
       "      <th>lng</th>\n",
       "    </tr>\n",
       "  </thead>\n",
       "  <tbody>\n",
       "    <tr>\n",
       "      <td>0</td>\n",
       "      <td>s Gravesandestraat 55 Oost 1092 AA Amsterdam ...</td>\n",
       "      <td>194</td>\n",
       "      <td>8/3/2017</td>\n",
       "      <td>7.7</td>\n",
       "      <td>Hotel Arena</td>\n",
       "      <td>Russia</td>\n",
       "      <td>I am so angry that i made this post available...</td>\n",
       "      <td>397</td>\n",
       "      <td>1403</td>\n",
       "      <td>Only the park outside of the hotel was beauti...</td>\n",
       "      <td>11</td>\n",
       "      <td>7</td>\n",
       "      <td>2.9</td>\n",
       "      <td>[' Leisure trip ', ' Couple ', ' Duplex Double...</td>\n",
       "      <td>0 days</td>\n",
       "      <td>52.360576</td>\n",
       "      <td>4.915968</td>\n",
       "    </tr>\n",
       "    <tr>\n",
       "      <td>1</td>\n",
       "      <td>s Gravesandestraat 55 Oost 1092 AA Amsterdam ...</td>\n",
       "      <td>194</td>\n",
       "      <td>8/3/2017</td>\n",
       "      <td>7.7</td>\n",
       "      <td>Hotel Arena</td>\n",
       "      <td>Ireland</td>\n",
       "      <td>No Negative</td>\n",
       "      <td>0</td>\n",
       "      <td>1403</td>\n",
       "      <td>No real complaints the hotel was great great ...</td>\n",
       "      <td>105</td>\n",
       "      <td>7</td>\n",
       "      <td>7.5</td>\n",
       "      <td>[' Leisure trip ', ' Couple ', ' Duplex Double...</td>\n",
       "      <td>0 days</td>\n",
       "      <td>52.360576</td>\n",
       "      <td>4.915968</td>\n",
       "    </tr>\n",
       "    <tr>\n",
       "      <td>2</td>\n",
       "      <td>s Gravesandestraat 55 Oost 1092 AA Amsterdam ...</td>\n",
       "      <td>194</td>\n",
       "      <td>7/31/2017</td>\n",
       "      <td>7.7</td>\n",
       "      <td>Hotel Arena</td>\n",
       "      <td>Australia</td>\n",
       "      <td>Rooms are nice but for elderly a bit difficul...</td>\n",
       "      <td>42</td>\n",
       "      <td>1403</td>\n",
       "      <td>Location was good and staff were ok It is cut...</td>\n",
       "      <td>21</td>\n",
       "      <td>9</td>\n",
       "      <td>7.1</td>\n",
       "      <td>[' Leisure trip ', ' Family with young childre...</td>\n",
       "      <td>3 days</td>\n",
       "      <td>52.360576</td>\n",
       "      <td>4.915968</td>\n",
       "    </tr>\n",
       "    <tr>\n",
       "      <td>3</td>\n",
       "      <td>s Gravesandestraat 55 Oost 1092 AA Amsterdam ...</td>\n",
       "      <td>194</td>\n",
       "      <td>7/31/2017</td>\n",
       "      <td>7.7</td>\n",
       "      <td>Hotel Arena</td>\n",
       "      <td>United Kingdom</td>\n",
       "      <td>My room was dirty and I was afraid to walk ba...</td>\n",
       "      <td>210</td>\n",
       "      <td>1403</td>\n",
       "      <td>Great location in nice surroundings the bar a...</td>\n",
       "      <td>26</td>\n",
       "      <td>1</td>\n",
       "      <td>3.8</td>\n",
       "      <td>[' Leisure trip ', ' Solo traveler ', ' Duplex...</td>\n",
       "      <td>3 days</td>\n",
       "      <td>52.360576</td>\n",
       "      <td>4.915968</td>\n",
       "    </tr>\n",
       "    <tr>\n",
       "      <td>4</td>\n",
       "      <td>s Gravesandestraat 55 Oost 1092 AA Amsterdam ...</td>\n",
       "      <td>194</td>\n",
       "      <td>7/24/2017</td>\n",
       "      <td>7.7</td>\n",
       "      <td>Hotel Arena</td>\n",
       "      <td>New Zealand</td>\n",
       "      <td>You When I booked with your company on line y...</td>\n",
       "      <td>140</td>\n",
       "      <td>1403</td>\n",
       "      <td>Amazing location and building Romantic setting</td>\n",
       "      <td>8</td>\n",
       "      <td>3</td>\n",
       "      <td>6.7</td>\n",
       "      <td>[' Leisure trip ', ' Couple ', ' Suite ', ' St...</td>\n",
       "      <td>10 days</td>\n",
       "      <td>52.360576</td>\n",
       "      <td>4.915968</td>\n",
       "    </tr>\n",
       "  </tbody>\n",
       "</table>\n",
       "</div>"
      ],
      "text/plain": [
       "                                       Hotel_Address  \\\n",
       "0   s Gravesandestraat 55 Oost 1092 AA Amsterdam ...   \n",
       "1   s Gravesandestraat 55 Oost 1092 AA Amsterdam ...   \n",
       "2   s Gravesandestraat 55 Oost 1092 AA Amsterdam ...   \n",
       "3   s Gravesandestraat 55 Oost 1092 AA Amsterdam ...   \n",
       "4   s Gravesandestraat 55 Oost 1092 AA Amsterdam ...   \n",
       "\n",
       "   Additional_Number_of_Scoring Review_Date  Average_Score   Hotel_Name  \\\n",
       "0                           194    8/3/2017            7.7  Hotel Arena   \n",
       "1                           194    8/3/2017            7.7  Hotel Arena   \n",
       "2                           194   7/31/2017            7.7  Hotel Arena   \n",
       "3                           194   7/31/2017            7.7  Hotel Arena   \n",
       "4                           194   7/24/2017            7.7  Hotel Arena   \n",
       "\n",
       "  Reviewer_Nationality                                    Negative_Review  \\\n",
       "0              Russia    I am so angry that i made this post available...   \n",
       "1             Ireland                                         No Negative   \n",
       "2           Australia    Rooms are nice but for elderly a bit difficul...   \n",
       "3      United Kingdom    My room was dirty and I was afraid to walk ba...   \n",
       "4         New Zealand    You When I booked with your company on line y...   \n",
       "\n",
       "   Review_Total_Negative_Word_Counts  Total_Number_of_Reviews  \\\n",
       "0                                397                     1403   \n",
       "1                                  0                     1403   \n",
       "2                                 42                     1403   \n",
       "3                                210                     1403   \n",
       "4                                140                     1403   \n",
       "\n",
       "                                     Positive_Review  \\\n",
       "0   Only the park outside of the hotel was beauti...   \n",
       "1   No real complaints the hotel was great great ...   \n",
       "2   Location was good and staff were ok It is cut...   \n",
       "3   Great location in nice surroundings the bar a...   \n",
       "4    Amazing location and building Romantic setting    \n",
       "\n",
       "   Review_Total_Positive_Word_Counts  \\\n",
       "0                                 11   \n",
       "1                                105   \n",
       "2                                 21   \n",
       "3                                 26   \n",
       "4                                  8   \n",
       "\n",
       "   Total_Number_of_Reviews_Reviewer_Has_Given  Reviewer_Score  \\\n",
       "0                                           7             2.9   \n",
       "1                                           7             7.5   \n",
       "2                                           9             7.1   \n",
       "3                                           1             3.8   \n",
       "4                                           3             6.7   \n",
       "\n",
       "                                                Tags days_since_review  \\\n",
       "0  [' Leisure trip ', ' Couple ', ' Duplex Double...            0 days   \n",
       "1  [' Leisure trip ', ' Couple ', ' Duplex Double...            0 days   \n",
       "2  [' Leisure trip ', ' Family with young childre...            3 days   \n",
       "3  [' Leisure trip ', ' Solo traveler ', ' Duplex...            3 days   \n",
       "4  [' Leisure trip ', ' Couple ', ' Suite ', ' St...           10 days   \n",
       "\n",
       "         lat       lng  \n",
       "0  52.360576  4.915968  \n",
       "1  52.360576  4.915968  \n",
       "2  52.360576  4.915968  \n",
       "3  52.360576  4.915968  \n",
       "4  52.360576  4.915968  "
      ]
     },
     "execution_count": 8,
     "metadata": {},
     "output_type": "execute_result"
    }
   ],
   "source": [
    "df.head()"
   ]
  },
  {
   "cell_type": "code",
   "execution_count": 36,
   "metadata": {},
   "outputs": [
    {
     "data": {
      "text/plain": [
       "Index(['Hotel_Address', 'Additional_Number_of_Scoring', 'Review_Date',\n",
       "       'Average_Score', 'Hotel_Name', 'Reviewer_Nationality',\n",
       "       'Negative_Review', 'Review_Total_Negative_Word_Counts',\n",
       "       'Total_Number_of_Reviews', 'Positive_Review',\n",
       "       'Review_Total_Positive_Word_Counts',\n",
       "       'Total_Number_of_Reviews_Reviewer_Has_Given', 'Reviewer_Score', 'Tags',\n",
       "       'days_since_review', 'lat', 'lng'],\n",
       "      dtype='object')"
      ]
     },
     "execution_count": 36,
     "metadata": {},
     "output_type": "execute_result"
    }
   ],
   "source": [
    "df.columns"
   ]
  },
  {
   "cell_type": "code",
   "execution_count": 37,
   "metadata": {},
   "outputs": [
    {
     "data": {
      "text/html": [
       "<div>\n",
       "<style scoped>\n",
       "    .dataframe tbody tr th:only-of-type {\n",
       "        vertical-align: middle;\n",
       "    }\n",
       "\n",
       "    .dataframe tbody tr th {\n",
       "        vertical-align: top;\n",
       "    }\n",
       "\n",
       "    .dataframe thead th {\n",
       "        text-align: right;\n",
       "    }\n",
       "</style>\n",
       "<table border=\"1\" class=\"dataframe\">\n",
       "  <thead>\n",
       "    <tr style=\"text-align: right;\">\n",
       "      <th></th>\n",
       "      <th>Negative_Review</th>\n",
       "      <th>Review_Total_Negative_Word_Counts</th>\n",
       "    </tr>\n",
       "  </thead>\n",
       "  <tbody>\n",
       "    <tr>\n",
       "      <td>0</td>\n",
       "      <td>I am so angry that i made this post available...</td>\n",
       "      <td>397</td>\n",
       "    </tr>\n",
       "    <tr>\n",
       "      <td>1</td>\n",
       "      <td>No Negative</td>\n",
       "      <td>0</td>\n",
       "    </tr>\n",
       "    <tr>\n",
       "      <td>2</td>\n",
       "      <td>Rooms are nice but for elderly a bit difficul...</td>\n",
       "      <td>42</td>\n",
       "    </tr>\n",
       "    <tr>\n",
       "      <td>3</td>\n",
       "      <td>My room was dirty and I was afraid to walk ba...</td>\n",
       "      <td>210</td>\n",
       "    </tr>\n",
       "    <tr>\n",
       "      <td>4</td>\n",
       "      <td>You When I booked with your company on line y...</td>\n",
       "      <td>140</td>\n",
       "    </tr>\n",
       "  </tbody>\n",
       "</table>\n",
       "</div>"
      ],
      "text/plain": [
       "                                     Negative_Review  \\\n",
       "0   I am so angry that i made this post available...   \n",
       "1                                        No Negative   \n",
       "2   Rooms are nice but for elderly a bit difficul...   \n",
       "3   My room was dirty and I was afraid to walk ba...   \n",
       "4   You When I booked with your company on line y...   \n",
       "\n",
       "   Review_Total_Negative_Word_Counts  \n",
       "0                                397  \n",
       "1                                  0  \n",
       "2                                 42  \n",
       "3                                210  \n",
       "4                                140  "
      ]
     },
     "execution_count": 37,
     "metadata": {},
     "output_type": "execute_result"
    }
   ],
   "source": [
    "# Remove the columns\n",
    "rev = df.drop(columns=['Hotel_Address', 'Additional_Number_of_Scoring', 'Review_Date', 'Average_Score', 'Hotel_Name',\n",
    "                       'Reviewer_Nationality', 'Total_Number_of_Reviews', 'Positive_Review', 'Review_Total_Positive_Word_Counts',\n",
    "                       'Total_Number_of_Reviews_Reviewer_Has_Given', 'Reviewer_Score', 'Tags', \n",
    "                       'days_since_review', 'lat', 'lng'], axis=1)\n",
    "# Print out the first rows of papers\n",
    "rev.head()"
   ]
  },
  {
   "cell_type": "code",
   "execution_count": 38,
   "metadata": {},
   "outputs": [
    {
     "data": {
      "text/plain": [
       "(515738, 2)"
      ]
     },
     "execution_count": 38,
     "metadata": {},
     "output_type": "execute_result"
    }
   ],
   "source": [
    "rev.shape"
   ]
  },
  {
   "cell_type": "code",
   "execution_count": 39,
   "metadata": {},
   "outputs": [],
   "source": [
    "indexNames = rev[rev['Negative_Review'] == 'No Negative' ].index\n",
    " \n",
    "# Delete these row indexes from dataFrame\n",
    "rev.drop(indexNames , inplace=True)"
   ]
  },
  {
   "cell_type": "code",
   "execution_count": 40,
   "metadata": {},
   "outputs": [
    {
     "data": {
      "text/plain": [
       "(387848, 2)"
      ]
     },
     "execution_count": 40,
     "metadata": {},
     "output_type": "execute_result"
    }
   ],
   "source": [
    "rev.shape"
   ]
  },
  {
   "cell_type": "code",
   "execution_count": 41,
   "metadata": {},
   "outputs": [
    {
     "data": {
      "text/plain": [
       "0     i am so angry that i made this post available...\n",
       "2     rooms are nice but for elderly a bit difficul...\n",
       "3     my room was dirty and i was afraid to walk ba...\n",
       "4     you when i booked with your company on line y...\n",
       "5     backyard of the hotel is total mess shouldn t...\n",
       "Name: Negative_Review, dtype: object"
      ]
     },
     "execution_count": 41,
     "metadata": {},
     "output_type": "execute_result"
    }
   ],
   "source": [
    "# Remove punctuation\n",
    "rev['Negative_Review'] = rev['Negative_Review'].map(lambda x: re.sub('[,\\.!?]', '', x))\n",
    "# Convert the titles to lowercase\n",
    "rev['Negative_Review'] = rev['Negative_Review'].map(lambda x: x.lower())\n",
    "# Print out the first rows of papers\n",
    "rev['Negative_Review'].head()"
   ]
  },
  {
   "cell_type": "code",
   "execution_count": 42,
   "metadata": {},
   "outputs": [
    {
     "data": {
      "image/png": "[encoded data removed]",
      "text/plain": [
       "<PIL.Image.Image image mode=RGB size=400x200 at 0x1A35ABBD90>"
      ]
     },
     "execution_count": 42,
     "metadata": {},
     "output_type": "execute_result"
    }
   ],
   "source": [
    "# Import the wordcloud library\n",
    "from wordcloud import WordCloud\n",
    "# Join the different processed reviews together.\n",
    "long_string = ','.join(list(rev['Negative_Review'].values))\n",
    "# Create a WordCloud object\n",
    "wordcloud = WordCloud(background_color=\"white\", max_words=5000, contour_width=3, contour_color='steelblue')\n",
    "# Generate a word cloud\n",
    "wordcloud.generate(long_string)\n",
    "# Visualize the word cloud\n",
    "wordcloud.to_image()"
   ]
  },
  {
   "cell_type": "code",
   "execution_count": 28,
   "metadata": {},
   "outputs": [
    {
     "data": {
      "image/png": "[encoded data removed]",
      "text/plain": [
       "<Figure size 1080x667.491 with 1 Axes>"
      ]
     },
     "metadata": {
      "needs_background": "light"
     },
     "output_type": "display_data"
    }
   ],
   "source": [
    "# Load the library with the CountVectorizer method\n",
    "from sklearn.feature_extraction.text import CountVectorizer\n",
    "import matplotlib.pyplot as plt\n",
    "import seaborn as sns\n",
    "sns.set_style('whitegrid')\n",
    "%matplotlib inline\n",
    "# Helper function\n",
    "def plot_10_most_common_words(count_data, count_vectorizer):\n",
    "    import matplotlib.pyplot as plt\n",
    "    words = count_vectorizer.get_feature_names()\n",
    "    total_counts = np.zeros(len(words))\n",
    "    for t in count_data:\n",
    "        total_counts+=t.toarray()[0]\n",
    "    \n",
    "    count_dict = (zip(words, total_counts))\n",
    "    count_dict = sorted(count_dict, key=lambda x:x[1], reverse=True)[0:10]\n",
    "    words = [w[0] for w in count_dict]\n",
    "    counts = [w[1] for w in count_dict]\n",
    "    x_pos = np.arange(len(words)) \n",
    "    \n",
    "    plt.figure(2, figsize=(15, 15/1.6180))\n",
    "    plt.subplot(title='10 most common words')\n",
    "    sns.set_context(\"notebook\", font_scale=1.25, rc={\"lines.linewidth\": 2.5})\n",
    "    sns.barplot(x_pos, counts, palette='husl')\n",
    "    plt.xticks(x_pos, words, rotation=90) \n",
    "    plt.xlabel('words')\n",
    "    plt.ylabel('counts')\n",
    "    plt.show()\n",
    "# Initialise the count vectorizer with the English stop words\n",
    "count_vectorizer = CountVectorizer(stop_words='english')\n",
    "# Fit and transform the processed titles\n",
    "count_data = count_vectorizer.fit_transform(rev['Negative_Review'])\n",
    "# Visualise the 10 most common words\n",
    "plot_10_most_common_words(count_data, count_vectorizer)"
   ]
  },
  {
   "cell_type": "code",
   "execution_count": 46,
   "metadata": {},
   "outputs": [
    {
     "data": {
      "text/plain": [
       "' i am so angry that i made this post available via all possible sites i use when planing my trips so no one will make the mistake of booking this place i made my booking via booking com we stayed for 6 nights in this hotel from 11 to 17 july upon arrival we were placed in a small room on the 2nd floor of the hotel it turned out that this was not the room we booked i had specially reserved the 2 level duplex room so that we would have a big windows and high ceilings the room itself was ok if you don t mind the broken window that can not be closed hello rain and a mini fridge that contained some sort of a bio weapon at least i guessed so by the smell of it i intimately asked to change the room and after explaining 2 times that i booked a duplex btw it costs the same as a simple double but got way more volume due to the high ceiling was offered a room but only the next day so i had to check out the next day before 11 o clock in order to get the room i waned to not the best way to begin yo'"
      ]
     },
     "execution_count": 46,
     "metadata": {},
     "output_type": "execute_result"
    }
   ],
   "source": [
    "long_string[0:1000]"
   ]
  },
  {
   "cell_type": "code",
   "execution_count": 47,
   "metadata": {},
   "outputs": [],
   "source": [
    "from nltk import FreqDist\n",
    "from nltk import word_tokenize"
   ]
  },
  {
   "cell_type": "code",
   "execution_count": 48,
   "metadata": {},
   "outputs": [],
   "source": [
    "stri = word_tokenize(long_string)"
   ]
  },
  {
   "cell_type": "code",
   "execution_count": 50,
   "metadata": {},
   "outputs": [
    {
     "data": {
      "text/plain": [
       "[('the', 531268),\n",
       " (',', 387841),\n",
       " ('was', 236750),\n",
       " ('a', 230251),\n",
       " ('to', 228892),\n",
       " ('and', 219473),\n",
       " ('room', 176026),\n",
       " ('in', 168040),\n",
       " ('not', 127445),\n",
       " ('i', 122298),\n",
       " ('of', 120631),\n",
       " ('for', 117655),\n",
       " ('it', 107124),\n",
       " ('we', 99303),\n",
       " ('is', 82191),\n",
       " ('very', 80597),\n",
       " ('but', 75665),\n",
       " ('hotel', 74709),\n",
       " ('t', 72474),\n",
       " ('no', 69992),\n",
       " ('on', 68744),\n",
       " ('were', 61672),\n",
       " ('at', 61162),\n",
       " ('had', 60151),\n",
       " ('that', 58901),\n",
       " ('breakfast', 58477),\n",
       " ('have', 54713),\n",
       " ('with', 51994),\n",
       " ('small', 49880),\n",
       " ('there', 46486),\n",
       " ('be', 45275),\n",
       " ('as', 44092),\n",
       " ('they', 42632),\n",
       " ('you', 40600),\n",
       " ('from', 40251),\n",
       " ('this', 39699),\n",
       " ('staff', 39512),\n",
       " ('so', 39272),\n",
       " ('my', 38794),\n",
       " ('nothing', 38768),\n",
       " ('rooms', 34802),\n",
       " ('our', 33993),\n",
       " ('would', 32291),\n",
       " ('could', 32079),\n",
       " ('when', 30932),\n",
       " ('bed', 29828),\n",
       " ('are', 29386),\n",
       " ('all', 29139),\n",
       " ('too', 28800),\n",
       " ('one', 28095)]"
      ]
     },
     "execution_count": 50,
     "metadata": {},
     "output_type": "execute_result"
    }
   ],
   "source": [
    "freqdist = FreqDist(stri)\n",
    "freqdist.most_common(50)"
   ]
  },
  {
   "cell_type": "code",
   "execution_count": 75,
   "metadata": {},
   "outputs": [],
   "source": [
    "from nltk.corpus import stopwords\n",
    "import string\n",
    "\n",
    "# Get all the stop words in the English language\n",
    "stopwords_list = stopwords.words('english')\n",
    "\n",
    "# It is generally a good idea to also remove punctuation\n",
    "\n",
    "# Now we have a list that includes all english stopwords, as well as all punctuation\n",
    "stopwords_list += list(string.punctuation)\n",
    "stopwords_list += ['0', '1', '2', '3', '4', '5', '6', '7', '8', '9']\n",
    "\n",
    "\n",
    "words_stopped = [word for word in stri if word not in stopwords_list]"
   ]
  },
  {
   "cell_type": "code",
   "execution_count": 76,
   "metadata": {},
   "outputs": [
    {
     "data": {
      "text/plain": [
       "[('room', 176026),\n",
       " ('hotel', 74709),\n",
       " ('breakfast', 58477),\n",
       " ('small', 49880),\n",
       " ('staff', 39512),\n",
       " ('nothing', 38768),\n",
       " ('rooms', 34802),\n",
       " ('would', 32291),\n",
       " ('could', 32079),\n",
       " ('bed', 29828),\n",
       " ('one', 28095),\n",
       " ('bit', 27546),\n",
       " ('bathroom', 26585),\n",
       " ('night', 24063),\n",
       " ('little', 22536),\n",
       " ('like', 22445),\n",
       " ('shower', 21290),\n",
       " ('good', 20821),\n",
       " ('us', 20225),\n",
       " ('get', 19504),\n",
       " ('service', 19323),\n",
       " ('bar', 19132),\n",
       " ('time', 17481),\n",
       " ('stay', 17430),\n",
       " ('reception', 16646),\n",
       " ('really', 16549),\n",
       " ('expensive', 16542),\n",
       " ('also', 16468),\n",
       " ('poor', 16104),\n",
       " ('even', 15417)]"
      ]
     },
     "execution_count": 76,
     "metadata": {},
     "output_type": "execute_result"
    }
   ],
   "source": [
    "freqdist = FreqDist(words_stopped)\n",
    "freqdist.most_common(30)"
   ]
  },
  {
   "cell_type": "code",
   "execution_count": 77,
   "metadata": {},
   "outputs": [],
   "source": [
    "from nltk.stem.wordnet import WordNetLemmatizer\n",
    "\n",
    "lemmatizer = WordNetLemmatizer()\n",
    "\n",
    "# Lemmatize list of words and join\n",
    "words_lemmatized = ' '.join([lemmatizer.lemmatize(w) for w in words_stopped])"
   ]
  },
  {
   "cell_type": "code",
   "execution_count": 78,
   "metadata": {},
   "outputs": [],
   "source": [
    "words_lemmatized = word_tokenize(words_lemmatized)"
   ]
  },
  {
   "cell_type": "code",
   "execution_count": 80,
   "metadata": {},
   "outputs": [
    {
     "data": {
      "text/plain": [
       "[('room', 210828),\n",
       " ('hotel', 80413),\n",
       " ('breakfast', 59223),\n",
       " ('small', 49885),\n",
       " ('staff', 39979),\n",
       " ('nothing', 38789),\n",
       " ('bed', 37393),\n",
       " ('would', 32291),\n",
       " ('could', 32079),\n",
       " ('one', 28982),\n",
       " ('night', 28380),\n",
       " ('bathroom', 28063),\n",
       " ('bit', 27756),\n",
       " ('time', 23604),\n",
       " ('little', 22537),\n",
       " ('like', 22535),\n",
       " ('shower', 21949),\n",
       " ('u', 21208),\n",
       " ('good', 20878),\n",
       " ('day', 20785),\n",
       " ('service', 20608),\n",
       " ('get', 20079),\n",
       " ('bar', 19953),\n",
       " ('price', 18069),\n",
       " ('stay', 17755),\n",
       " ('reception', 16701),\n",
       " ('really', 16549),\n",
       " ('floor', 16542),\n",
       " ('expensive', 16542),\n",
       " ('also', 16468)]"
      ]
     },
     "execution_count": 80,
     "metadata": {},
     "output_type": "execute_result"
    }
   ],
   "source": [
    "freqdist = FreqDist(words_lemmatized)\n",
    "freqdist.most_common(30)"
   ]
  },
  {
   "cell_type": "code",
   "execution_count": 81,
   "metadata": {},
   "outputs": [
    {
     "name": "stdout",
     "output_type": "stream",
     "text": [
      "Word\t\t\tNormalized Frequency\n",
      "room \t\t\t 0.04662\n",
      "hotel \t\t\t 0.01778\n",
      "breakfast \t\t\t 0.0131\n",
      "small \t\t\t 0.01103\n",
      "staff \t\t\t 0.008841\n",
      "nothing \t\t\t 0.008578\n",
      "bed \t\t\t 0.008269\n",
      "would \t\t\t 0.007141\n",
      "could \t\t\t 0.007094\n",
      "one \t\t\t 0.006409\n",
      "night \t\t\t 0.006276\n",
      "bathroom \t\t\t 0.006206\n",
      "bit \t\t\t 0.006138\n",
      "time \t\t\t 0.00522\n",
      "little \t\t\t 0.004984\n",
      "like \t\t\t 0.004984\n",
      "shower \t\t\t 0.004854\n",
      "u \t\t\t 0.00469\n",
      "good \t\t\t 0.004617\n",
      "day \t\t\t 0.004597\n",
      "service \t\t\t 0.004557\n",
      "get \t\t\t 0.00444\n",
      "bar \t\t\t 0.004413\n",
      "price \t\t\t 0.003996\n",
      "stay \t\t\t 0.003926\n",
      "reception \t\t\t 0.003693\n",
      "really \t\t\t 0.00366\n",
      "floor \t\t\t 0.003658\n",
      "expensive \t\t\t 0.003658\n",
      "also \t\t\t 0.003642\n",
      "poor \t\t\t 0.003562\n",
      "door \t\t\t 0.003441\n",
      "check \t\t\t 0.00341\n",
      "even \t\t\t 0.00341\n",
      "window \t\t\t 0.003385\n",
      "need \t\t\t 0.003374\n",
      "work \t\t\t 0.003193\n",
      "water \t\t\t 0.003166\n",
      "noisy \t\t\t 0.003081\n",
      "air \t\t\t 0.002933\n",
      "coffee \t\t\t 0.002857\n",
      "wifi \t\t\t 0.002791\n",
      "noise \t\t\t 0.002773\n",
      "restaurant \t\t\t 0.002769\n",
      "area \t\t\t 0.002753\n",
      "hot \t\t\t 0.002688\n",
      "better \t\t\t 0.002669\n",
      "quite \t\t\t 0.002657\n",
      "booking \t\t\t 0.002624\n",
      "food \t\t\t 0.002577\n"
     ]
    }
   ],
   "source": [
    "total_word_count = sum(freqdist.values())\n",
    "top_50_words = freqdist.most_common(50)\n",
    "print('Word\\t\\t\\tNormalized Frequency')\n",
    "for word in top_50_words:\n",
    "    normalized_frequency = word[1] / total_word_count\n",
    "    print('{} \\t\\t\\t {:.4}'.format(word[0], normalized_frequency))"
   ]
  },
  {
   "cell_type": "code",
   "execution_count": 84,
   "metadata": {},
   "outputs": [
    {
     "data": {
      "text/plain": [
       "[(('room', 'small'), 0.0029284260561363486),\n",
       " (('small', 'room'), 0.001880411324220463),\n",
       " (('room', 'service'), 0.0014354639427866665),\n",
       " (('air', 'conditioning'), 0.0012216149776542206),\n",
       " (('star', 'hotel'), 0.0011594727240841923),\n",
       " (('booking', 'com'), 0.0010144004168175073),\n",
       " (('tea', 'coffee'), 0.000886356413909869),\n",
       " (('room', 'room'), 0.0008306274178257156),\n",
       " (('room', 'bit'), 0.0008253198943891295),\n",
       " (('room', 'little'), 0.0007746772749317043),\n",
       " (('hotel', 'room'), 0.0007158522235095424),\n",
       " (('air', 'con'), 0.0007054583234462281),\n",
       " (('breakfast', 'included'), 0.0006826802020308796),\n",
       " (('double', 'bed'), 0.0006749400636858583),\n",
       " (('even', 'though'), 0.0006572483188972382),\n",
       " (('front', 'desk'), 0.0006459698315944928),\n",
       " (('nothing', 'nothing'), 0.000643979510305773),\n",
       " (('breakfast', 'room'), 0.0006296049676650192),\n",
       " (('could', 'better'), 0.0006178841867425583),\n",
       " (('little', 'bit'), 0.0006125766633059723),\n",
       " (('bit', 'small'), 0.0006108074888271103),\n",
       " (('mini', 'bar'), 0.0006061634058200975),\n",
       " (('would', 'nice'), 0.0006037307909116622),\n",
       " (('double', 'room'), 0.0005628186310879782),\n",
       " (('could', 'hear'), 0.0005502132629260863),\n",
       " (('room', 'could'), 0.0005369444543346212),\n",
       " (('wi', 'fi'), 0.0005323003713276084),\n",
       " (('breakfast', 'expensive'), 0.0005289831691797422),\n",
       " (('value', 'money'), 0.0005234544989332983),\n",
       " (('one', 'night'), 0.0005037724328559584),\n",
       " (('room', 'quite'), 0.0004803308710110368),\n",
       " (('reception', 'staff'), 0.000479225136961748),\n",
       " (('nothing', 'room'), 0.00047723481567302824),\n",
       " (('size', 'room'), 0.0004615333921731279),\n",
       " (('facility', 'room'), 0.00046131224536327014),\n",
       " (('hot', 'water'), 0.00045887963045483486),\n",
       " (('room', 'tiny'), 0.0004566681623562573),\n",
       " (('next', 'door'), 0.0004513606389196713),\n",
       " (('nothing', 'like'), 0.0004372072430887752),\n",
       " (('swimming', 'pool'), 0.0004257076089761721),\n",
       " (('single', 'bed'), 0.0004210635259691593),\n",
       " (('room', 'size'), 0.0004179674706311508),\n",
       " (('room', 'bathroom'), 0.0004013814598918194),\n",
       " (('room', 'hot'), 0.00040116031308196163),\n",
       " (('credit', 'card'), 0.0004000545790326729),\n",
       " (('little', 'small'), 0.0003985065513636686),\n",
       " (('would', 'liked'), 0.0003978431109340954),\n",
       " (('room', 'would'), 0.0003892183853496431),\n",
       " (('quite', 'small'), 0.00038568003639191905),\n",
       " (('room', 'nothing'), 0.0003816993938144795)]"
      ]
     },
     "execution_count": 84,
     "metadata": {},
     "output_type": "execute_result"
    }
   ],
   "source": [
    "import nltk\n",
    "from nltk.collocations import *\n",
    "\n",
    "bigram_measures = nltk.collocations.BigramAssocMeasures()\n",
    "rev_finder = BigramCollocationFinder.from_words(words_lemmatized)\n",
    "rev_scored = rev_finder.score_ngrams(bigram_measures.raw_freq)\n",
    "rev_scored[:50]"
   ]
  },
  {
   "cell_type": "code",
   "execution_count": 103,
   "metadata": {},
   "outputs": [
    {
     "data": {
      "text/plain": [
       "[(('room', 'bit', 'small'), 0.00034919081276539),\n",
       " (('room', 'little', 'small'), 0.0002726740165546079),\n",
       " (('room', 'quite', 'small'), 0.00023397332482950133),\n",
       " (('coffee', 'making', 'facility'), 0.00021849304813945872),\n",
       " (('making', 'facility', 'room'), 0.00020721456083671339),\n",
       " (('tea', 'coffee', 'making'), 0.0001974841012029723),\n",
       " (('room', 'small', 'room'), 0.00019615722034382579),\n",
       " (('tea', 'coffee', 'facility'), 0.00016033143714687002),\n",
       " (('two', 'single', 'bed'), 0.00015789882223843474),\n",
       " (('small', 'room', 'small'), 0.00015148556475255993),\n",
       " (('breakfast', 'included', 'price'), 0.00013224579229493554),\n",
       " (('room', 'room', 'small'), 0.00012715941566820724),\n",
       " (('tea', 'coffee', 'room'), 0.00012539024118934523),\n",
       " (('four', 'star', 'hotel'), 0.00012339991990062546),\n",
       " (('breakfast', 'could', 'better'), 0.00011853469008375494),\n",
       " (('air', 'conditioning', 'room'), 0.00011477519431617315),\n",
       " (('bed', 'pushed', 'together'), 0.00011389060707674214),\n",
       " (('front', 'desk', 'staff'), 0.00011123684535844913),\n",
       " (('tea', 'making', 'facility'), 0.00011079455173873362),\n",
       " (('coffee', 'facility', 'room'), 0.00011013111130916037),\n",
       " (('room', 'extremely', 'small'), 0.00010858308364015611),\n",
       " (('far', 'city', 'center'), 0.00010504473468243207),\n",
       " (('room', 'small', 'bathroom'), 0.0001012852389148503),\n",
       " (('room', 'little', 'bit'), 9.752574314726852e-05),\n",
       " (('room', 'small', 'bed'), 9.730459633741077e-05),\n",
       " (('room', 'really', 'small'), 9.332395375997123e-05),\n",
       " (('good', 'value', 'money'), 9.266051333039797e-05),\n",
       " (('room', 'air', 'conditioning'), 9.155477928110922e-05),\n",
       " (('room', 'next', 'door'), 9.111248566139371e-05),\n",
       " (('air', 'conditioning', 'work'), 8.602610903466543e-05),\n",
       " (('room', 'service', 'menu'), 8.42569345558034e-05),\n",
       " (('nothing', 'room', 'small'), 8.116087921779488e-05),\n",
       " (('small', 'room', 'room'), 7.828597068964412e-05),\n",
       " (('nothing', 'nothing', 'nothing'), 7.784367706992861e-05),\n",
       " (('could', 'hear', 'people'), 7.629564940092435e-05),\n",
       " (('king', 'size', 'bed'), 7.56322089713511e-05),\n",
       " (('single', 'bed', 'pushed'), 7.430532811220459e-05),\n",
       " (('room', 'double', 'bed'), 7.408418130234684e-05),\n",
       " (('room', 'service', 'food'), 7.408418130234684e-05),\n",
       " (('air', 'conditioning', 'working'), 7.364188768263133e-05),\n",
       " (('room', 'rather', 'small'), 7.342074087277358e-05),\n",
       " (('took', 'long', 'time'), 7.253615363334256e-05),\n",
       " (('air', 'conditioning', 'unit'), 7.09881259643383e-05),\n",
       " (('breakfast', 'included', 'room'), 6.877665786576079e-05),\n",
       " (('mini', 'bar', 'room'), 6.789207062632978e-05),\n",
       " (('room', 'size', 'small'), 6.789207062632978e-05),\n",
       " (('room', 'small', 'side'), 6.722863019675653e-05),\n",
       " (('fire', 'alarm', 'went'), 6.678633657704103e-05),\n",
       " (('booked', 'booking', 'com'), 6.612289614746777e-05),\n",
       " (('free', 'wi', 'fi'), 6.590174933761002e-05)]"
      ]
     },
     "execution_count": 103,
     "metadata": {},
     "output_type": "execute_result"
    }
   ],
   "source": [
    "from nltk import ngrams\n",
    "\n",
    "n = 3\n",
    "trigrams = list(ngrams(words_lemmatized, n))\n",
    "\n",
    "#trigrams[0:100]\n",
    "\n",
    "trigram_measures = nltk.collocations.TrigramAssocMeasures()\n",
    "rev_trifinder = TrigramCollocationFinder.from_words(words_lemmatized)\n",
    "rev_triscored = rev_trifinder.score_ngrams(trigram_measures.raw_freq)\n",
    "rev_triscored[:50]"
   ]
  },
  {
   "cell_type": "code",
   "execution_count": 105,
   "metadata": {},
   "outputs": [
    {
     "data": {
      "text/plain": [
       "[(('tea', 'coffee', 'making', 'facility'), 0.00018045579684392542),\n",
       " (('coffee', 'making', 'facility', 'room'), 0.00013821675616109485),\n",
       " (('tea', 'coffee', 'facility', 'room'), 9.597771547826426e-05),\n",
       " (('single', 'bed', 'pushed', 'together'), 7.231500682348481e-05),\n",
       " (('tea', 'making', 'facility', 'room'), 6.0151932281308475e-05),\n",
       " (('room', 'little', 'bit', 'small'), 4.5113949210981354e-05),\n",
       " (('two', 'single', 'bed', 'pushed'), 4.135445344339957e-05),\n",
       " (('double', 'bed', 'two', 'single'), 3.472004914766702e-05),\n",
       " (('two', 'single', 'pushed', 'together'), 3.472004914766702e-05),\n",
       " (('room', 'little', 'small', 'side'), 3.317202147866276e-05),\n",
       " (('room', 'small', 'room', 'small'), 3.073940657022749e-05),\n",
       " (('coffee', 'tea', 'making', 'facility'), 2.8749085281507725e-05),\n",
       " (('bit', 'far', 'city', 'center'), 2.7422204422361216e-05),\n",
       " (('room', 'two', 'single', 'bed'), 2.5874176753356953e-05),\n",
       " (('breakfast', 'included', 'room', 'rate'), 2.543188313364145e-05),\n",
       " (('wall', 'thin', 'could', 'hear'), 2.4989589513925947e-05),\n",
       " (('small', 'room', 'small', 'room'), 2.3883855464637186e-05),\n",
       " (('bed', 'two', 'single', 'bed'), 2.2335827795632926e-05),\n",
       " (('room', 'bit', 'small', 'side'), 2.123009374634417e-05),\n",
       " (('single', 'bed', 'put', 'together'), 2.1008946936486413e-05),\n",
       " (('far', 'away', 'city', 'center'), 1.9460919267482153e-05),\n",
       " (('bit', 'far', 'city', 'centre'), 1.9239772457624402e-05),\n",
       " (('twin', 'bed', 'pushed', 'together'), 1.9239772457624402e-05),\n",
       " (('room', 'room', 'bit', 'small'), 1.87974788379089e-05),\n",
       " (('bed', 'two', 'single', 'pushed'), 1.8576332028051147e-05),\n",
       " (('room', 'bit', 'small', 'room'), 1.8355185218193396e-05),\n",
       " (('room', 'small', 'small', 'room'), 1.8355185218193396e-05),\n",
       " (('small', 'room', 'room', 'small'), 1.8355185218193396e-05),\n",
       " (('get', 'good', 'night', 'sleep'), 1.7470597978762387e-05),\n",
       " (('nothing', 'room', 'bit', 'small'), 1.7470597978762387e-05),\n",
       " (('small', 'room', 'small', 'bathroom'), 1.7249451168904635e-05),\n",
       " (('per', 'person', 'per', 'day'), 1.7028304359046884e-05),\n",
       " (('room', 'tea', 'coffee', 'making'), 1.6807157549189132e-05),\n",
       " (('wish', 'could', 'stayed', 'longer'), 1.658601073933138e-05),\n",
       " (('coffee', 'tea', 'facility', 'room'), 1.636486392947363e-05),\n",
       " (('room', 'hot', 'air', 'con'), 1.636486392947363e-05),\n",
       " (('thin', 'wall', 'could', 'hear'), 1.636486392947363e-05),\n",
       " (('open', 'window', 'fresh', 'air'), 1.5701423499900375e-05),\n",
       " (('two', 'single', 'bed', 'put'), 1.5701423499900375e-05),\n",
       " (('room', 'hot', 'air', 'conditioning'), 1.5480276690042623e-05),\n",
       " (('small', 'room', 'small', 'bed'), 1.5480276690042623e-05),\n",
       " (('breakfast', 'included', 'price', 'room'), 1.5037983070327119e-05),\n",
       " (('room', 'could', 'bit', 'bigger'), 1.5037983070327119e-05),\n",
       " (('would', 'expect', 'star', 'hotel'), 1.5037983070327119e-05),\n",
       " (('would', 'liked', 'tea', 'coffee'), 1.4595689450611614e-05),\n",
       " (('could', 'hear', 'people', 'next'), 1.3489955401322857e-05),\n",
       " (('room', 'little', 'small', 'room'), 1.3489955401322857e-05),\n",
       " (('room', 'small', 'two', 'people'), 1.3489955401322857e-05),\n",
       " (('nothing', 'room', 'little', 'small'), 1.3047661781607352e-05),\n",
       " (('smallest', 'room', 'ever', 'stayed'), 1.3047661781607352e-05)]"
      ]
     },
     "execution_count": 105,
     "metadata": {},
     "output_type": "execute_result"
    }
   ],
   "source": [
    "n = 4\n",
    "quadgrams = list(ngrams(words_lemmatized, n))\n",
    "\n",
    "quadgram_measures = nltk.collocations.QuadgramAssocMeasures()\n",
    "rev_quadfinder = QuadgramCollocationFinder.from_words(words_lemmatized)\n",
    "rev_quadscored = rev_quadfinder.score_ngrams(quadgram_measures.raw_freq)\n",
    "rev_quadscored[:50]"
   ]
  },
  {
   "cell_type": "code",
   "execution_count": null,
   "metadata": {},
   "outputs": [],
   "source": []
  }
 ],
 "metadata": {
  "kernelspec": {
   "display_name": "Python 3",
   "language": "python",
   "name": "python3"
  },
  "language_info": {
   "codemirror_mode": {
    "name": "ipython",
    "version": 3
   },
   "file_extension": ".py",
   "mimetype": "text/x-python",
   "name": "python",
   "nbconvert_exporter": "python",
   "pygments_lexer": "ipython3",
   "version": "3.7.4"
  }
 },
 "nbformat": 4,
 "nbformat_minor": 2
}
